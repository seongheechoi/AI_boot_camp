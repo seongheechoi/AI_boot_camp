{
  "nbformat": 4,
  "nbformat_minor": 0,
  "metadata": {
    "colab": {
      "name": "kb_1_파이선기초_191104.ipynb의 사본",
      "provenance": [],
      "collapsed_sections": [],
      "include_colab_link": true
    },
    "kernelspec": {
      "display_name": "Python 3",
      "language": "python",
      "name": "python3"
    },
    "language_info": {
      "codemirror_mode": {
        "name": "ipython",
        "version": 3
      },
      "file_extension": ".py",
      "mimetype": "text/x-python",
      "name": "python",
      "nbconvert_exporter": "python",
      "pygments_lexer": "ipython3",
      "version": "3.7.6"
    }
  },
  "cells": [
    {
      "cell_type": "markdown",
      "metadata": {
        "id": "view-in-github",
        "colab_type": "text"
      },
      "source": [
        "<a href=\"https://colab.research.google.com/github/seongheechoi/AI_boot_camp/blob/master/kb_1_%E1%84%91%E1%85%A1%E1%84%8B%E1%85%B5%E1%84%89%E1%85%A5%E1%86%AB%E1%84%80%E1%85%B5%E1%84%8E%E1%85%A9_191104_ipynb%EC%9D%98_%ED%86%B5%EA%B3%84%EC%B6%94%EA%B0%80.ipynb\" target=\"_parent\"><img src=\"https://colab.research.google.com/assets/colab-badge.svg\" alt=\"Open In Colab\"/></a>"
      ]
    },
    {
      "cell_type": "markdown",
      "metadata": {
        "colab_type": "text",
        "id": "t2f0l6XeKaoY"
      },
      "source": [
        "# 파이선과 쥬피터 노트북\n",
        "## 이 프로그램을 \"사본 저장\"한 후에 사용해야 함\n",
        "-  '파일', '드라이브에 사본 저장...'\n",
        "- 이름은 원하는대로 변경할 수 있음\n",
        "- 사본은 본인의 구글드라이브에 '내 드라이브', 'Colab Notebooks' 폴더에 자동 저장됨 \n"
      ]
    },
    {
      "cell_type": "markdown",
      "metadata": {
        "colab_type": "text",
        "id": "tFnOyiRkKaoZ"
      },
      "source": [
        "## 쥬피터 노트북 사용\n",
        "- colab 사용 (구글 클라우드) \n",
        "- 자신의 PC에서는 아나콘다(anaconda)를 설치한 후 jupyter notebook 프로그램 실행\n",
        "- colab에서 PC로 다운로드하려면 '파일' - '.ipynb 다운로드' 선택\n",
        "- PC의 파일을 colab에서 읽으려면 '파일' - '노트 업로드' 선택"
      ]
    },
    {
      "cell_type": "markdown",
      "metadata": {
        "colab_type": "text",
        "id": "fjkX2ae7Kaoa"
      },
      "source": [
        "## 쥬피터 팁\n",
        "\n",
        "- 각 셀은 프로그램 코드 또는 문서(마크업 문서 지원) 둘 중 하나로 사용된다.\n",
        "- 셀을 실행하려면 Shift + Enter 를 입력한다 (셀 실행후 커서가 다음 셀로 이동)\n",
        "- 셀을 Ctrl + Enter로 실행하면 셀 실행 후에 현재의 셀에 남아 있는다. \n",
        "### 코랩에서 셀에 대한 명령어 (ctrl + m + ...)\n",
        "- h  help\n",
        "- a  위에 셀 추가 (above)\n",
        "- b  아래에 셀 추가 (below)\n",
        "- d  셀 삭제 (delete)\n",
        "- m  문서 모드로 전환 (mark up)\n",
        "- y  code 모드로 전환\n",
        "- o  출력 보이기/안보이기 (output)\n",
        "- '-' 셀 둘로 나누기\n",
        "- 'shift'+클릭으로 두 개의 셀 선택 후에 (ctrl + shift + M) 셀 합치기\n",
        "\n",
        "### PC에서 사용할 때\n",
        "-  편집창 아닌 명령 모드(셀 외부를 클릭) 에서 ctrl + m 없이 단축 문자만 입력 (a, b, x, o 등)\n",
        "-  셀을 나눌 때는 ctrl + shift + '-'\n",
        "-  바로 아래의 셀과 합칠 때는 shift + m\n"
      ]
    },
    {
      "cell_type": "markdown",
      "metadata": {
        "colab_type": "text",
        "id": "M8kdPmDaKaob"
      },
      "source": [
        "## 파이선 기초 문법\n",
        "### 파이선 기본 변수\n",
        "- 정수(int), 부동소수(float), 문자(strings), 불리언(True/False),  \n",
        "- 리스트(list), 배열(array), 튜풀(tuple), 사전(dictionary), \n",
        "- range, arange\n",
        "- if, for, def(함수정의)\n",
        "- 시각화, matplotlib, plot, scatter\n"
      ]
    },
    {
      "cell_type": "code",
      "metadata": {
        "colab_type": "code",
        "id": "LtiP9uLoKaoc",
        "colab": {
          "base_uri": "https://localhost:8080/",
          "height": 34
        },
        "outputId": "ba1c3414-334b-41ca-811b-5ff34364dc15"
      },
      "source": [
        "x=3\n",
        "x"
      ],
      "execution_count": null,
      "outputs": [
        {
          "output_type": "execute_result",
          "data": {
            "text/plain": [
              "3"
            ]
          },
          "metadata": {
            "tags": []
          },
          "execution_count": 1
        }
      ]
    },
    {
      "cell_type": "code",
      "metadata": {
        "colab_type": "code",
        "id": "elUb9dXRKaog",
        "colab": {
          "base_uri": "https://localhost:8080/",
          "height": 34
        },
        "outputId": "491f0c7f-f068-4370-aac8-a0a151a9b585"
      },
      "source": [
        "y = 0.5\n",
        "x+y"
      ],
      "execution_count": null,
      "outputs": [
        {
          "output_type": "execute_result",
          "data": {
            "text/plain": [
              "3.5"
            ]
          },
          "metadata": {
            "tags": []
          },
          "execution_count": 2
        }
      ]
    },
    {
      "cell_type": "code",
      "metadata": {
        "colab_type": "code",
        "id": "qHTfs8YZKaoj",
        "colab": {
          "base_uri": "https://localhost:8080/",
          "height": 50
        },
        "outputId": "1e119569-b63e-474c-9a9d-8b8d4fd99ef3"
      },
      "source": [
        "print(x)\n",
        "print(y)"
      ],
      "execution_count": null,
      "outputs": [
        {
          "output_type": "stream",
          "text": [
            "3\n",
            "0.5\n"
          ],
          "name": "stdout"
        }
      ]
    },
    {
      "cell_type": "code",
      "metadata": {
        "colab_type": "code",
        "id": "09FBswjaKaol",
        "colab": {
          "base_uri": "https://localhost:8080/",
          "height": 34
        },
        "outputId": "77e33277-40e3-4678-e10c-5206cfe7b5e5"
      },
      "source": [
        "type(x)"
      ],
      "execution_count": null,
      "outputs": [
        {
          "output_type": "execute_result",
          "data": {
            "text/plain": [
              "int"
            ]
          },
          "metadata": {
            "tags": []
          },
          "execution_count": 4
        }
      ]
    },
    {
      "cell_type": "code",
      "metadata": {
        "colab_type": "code",
        "id": "VPK8icOAKaoo",
        "scrolled": false,
        "colab": {
          "base_uri": "https://localhost:8080/",
          "height": 34
        },
        "outputId": "ab8f2a65-31be-4f53-a013-beb13f78e632"
      },
      "source": [
        "z = '안녕'\n",
        "print(z)"
      ],
      "execution_count": null,
      "outputs": [
        {
          "output_type": "stream",
          "text": [
            "안녕\n"
          ],
          "name": "stdout"
        }
      ]
    },
    {
      "cell_type": "code",
      "metadata": {
        "colab_type": "code",
        "id": "EqAC3KDmKaoq",
        "colab": {
          "base_uri": "https://localhost:8080/",
          "height": 34
        },
        "outputId": "f06d35d9-02fe-4ff1-ba58-acb89881998f"
      },
      "source": [
        "a = True\n",
        "b = False\n",
        "a | b"
      ],
      "execution_count": null,
      "outputs": [
        {
          "output_type": "execute_result",
          "data": {
            "text/plain": [
              "True"
            ]
          },
          "metadata": {
            "tags": []
          },
          "execution_count": 6
        }
      ]
    },
    {
      "cell_type": "code",
      "metadata": {
        "colab_type": "code",
        "id": "8f0rdXKDKaot",
        "colab": {
          "base_uri": "https://localhost:8080/",
          "height": 34
        },
        "outputId": "d910eb50-6a25-42fc-c6c1-d56af62c6c6f"
      },
      "source": [
        "a & b"
      ],
      "execution_count": null,
      "outputs": [
        {
          "output_type": "execute_result",
          "data": {
            "text/plain": [
              "False"
            ]
          },
          "metadata": {
            "tags": []
          },
          "execution_count": 7
        }
      ]
    },
    {
      "cell_type": "code",
      "metadata": {
        "colab_type": "code",
        "id": "QFsv3Mz5Kaov",
        "colab": {
          "base_uri": "https://localhost:8080/",
          "height": 34
        },
        "outputId": "d61e0706-0c1d-4d9f-f1f8-9a1cc13e19d6"
      },
      "source": [
        "a + b + 10"
      ],
      "execution_count": null,
      "outputs": [
        {
          "output_type": "execute_result",
          "data": {
            "text/plain": [
              "11"
            ]
          },
          "metadata": {
            "tags": []
          },
          "execution_count": 8
        }
      ]
    },
    {
      "cell_type": "markdown",
      "metadata": {
        "colab_type": "text",
        "id": "85JpP2mzKaox"
      },
      "source": [
        "### 리스트\n",
        "- 임의의 데이터를 담는 목록 \"통\"\n",
        "- 리스트를 만들려면 대괄호 [ ]를 사용하고 각 항목을 ','로 구분한다\n",
        "- 리스트에 항목 추가는 append()로\n",
        "- 항목별 연산은 안된다"
      ]
    },
    {
      "cell_type": "code",
      "metadata": {
        "colab_type": "code",
        "id": "mCcMxs9wKaoy",
        "colab": {
          "base_uri": "https://localhost:8080/",
          "height": 34
        },
        "outputId": "d7d8fa38-72be-49f5-da2b-0099de5c29d4"
      },
      "source": [
        " c = [1,2,3]\n",
        " c.append(5)\n",
        " c"
      ],
      "execution_count": null,
      "outputs": [
        {
          "output_type": "execute_result",
          "data": {
            "text/plain": [
              "[1, 2, 3, 5]"
            ]
          },
          "metadata": {
            "tags": []
          },
          "execution_count": 9
        }
      ]
    },
    {
      "cell_type": "code",
      "metadata": {
        "colab_type": "code",
        "id": "kUGYWZ_ynCB3",
        "colab": {
          "base_uri": "https://localhost:8080/",
          "height": 34
        },
        "outputId": "2cc97159-f691-4c7d-df0f-0044c8eee720"
      },
      "source": [
        "c * 2"
      ],
      "execution_count": null,
      "outputs": [
        {
          "output_type": "execute_result",
          "data": {
            "text/plain": [
              "[1, 2, 3, 5, 1, 2, 3, 5]"
            ]
          },
          "metadata": {
            "tags": []
          },
          "execution_count": 10
        }
      ]
    },
    {
      "cell_type": "markdown",
      "metadata": {
        "colab_type": "text",
        "id": "Fqgu1cc5nJf9"
      },
      "source": [
        "## 리스트 자체의 연산은 수치 연산과 다르다\n",
        "- 일반적인 수식 연산을 하려면 배열(array)로 바꾸어야 한다.\n",
        "- numpy 모듈이 필요하다"
      ]
    },
    {
      "cell_type": "code",
      "metadata": {
        "colab_type": "code",
        "id": "aczpw5QLUWnQ",
        "colab": {
          "base_uri": "https://localhost:8080/",
          "height": 34
        },
        "outputId": "f0e31bd0-3ba5-483c-c079-53ce616cde10"
      },
      "source": [
        "import numpy as np\n",
        "d = np.array(c)\n",
        "d * 2"
      ],
      "execution_count": null,
      "outputs": [
        {
          "output_type": "execute_result",
          "data": {
            "text/plain": [
              "array([ 2,  4,  6, 10])"
            ]
          },
          "metadata": {
            "tags": []
          },
          "execution_count": 11
        }
      ]
    },
    {
      "cell_type": "code",
      "metadata": {
        "colab_type": "code",
        "id": "baKr6A5TTgcu",
        "colab": {
          "base_uri": "https://localhost:8080/",
          "height": 34
        },
        "outputId": "be12f1f1-a028-4e96-f349-0fb859009d6e"
      },
      "source": [
        "type(d)"
      ],
      "execution_count": null,
      "outputs": [
        {
          "output_type": "execute_result",
          "data": {
            "text/plain": [
              "numpy.ndarray"
            ]
          },
          "metadata": {
            "tags": []
          },
          "execution_count": 12
        }
      ]
    },
    {
      "cell_type": "code",
      "metadata": {
        "colab_type": "code",
        "id": "PbWvRzGMKao3",
        "colab": {
          "base_uri": "https://localhost:8080/",
          "height": 34
        },
        "outputId": "f5f42a43-3f54-4a0d-9ca8-66684c0a0ed3"
      },
      "source": [
        "type(c)"
      ],
      "execution_count": null,
      "outputs": [
        {
          "output_type": "execute_result",
          "data": {
            "text/plain": [
              "list"
            ]
          },
          "metadata": {
            "tags": []
          },
          "execution_count": 13
        }
      ]
    },
    {
      "cell_type": "markdown",
      "metadata": {
        "colab_type": "text",
        "id": "M37g53aDnuzk"
      },
      "source": [
        "## 인덱싱은 리스트와 어레이 모두 가능하다\n",
        "- 인덱싱을 할 때에도 [  ] 가 사용된다\n",
        "- 즉 [  ]는 리스트를 나타낼 때와 인덱싱에서 사용한다\n"
      ]
    },
    {
      "cell_type": "code",
      "metadata": {
        "colab_type": "code",
        "id": "c4BWhg59Kao6",
        "colab": {
          "base_uri": "https://localhost:8080/",
          "height": 34
        },
        "outputId": "a71a1d21-9a2e-43e4-9a22-07cc22dd1de1"
      },
      "source": [
        "c[1]"
      ],
      "execution_count": null,
      "outputs": [
        {
          "output_type": "execute_result",
          "data": {
            "text/plain": [
              "2"
            ]
          },
          "metadata": {
            "tags": []
          },
          "execution_count": 14
        }
      ]
    },
    {
      "cell_type": "code",
      "metadata": {
        "colab_type": "code",
        "id": "n9xpNNr4nzk-",
        "colab": {
          "base_uri": "https://localhost:8080/",
          "height": 34
        },
        "outputId": "480d8613-0f12-4392-bded-d638f2062242"
      },
      "source": [
        " d[1]"
      ],
      "execution_count": null,
      "outputs": [
        {
          "output_type": "execute_result",
          "data": {
            "text/plain": [
              "2"
            ]
          },
          "metadata": {
            "tags": []
          },
          "execution_count": 15
        }
      ]
    },
    {
      "cell_type": "code",
      "metadata": {
        "colab_type": "code",
        "id": "p0bvBsX5Kao8",
        "scrolled": true,
        "colab": {
          "base_uri": "https://localhost:8080/",
          "height": 34
        },
        "outputId": "43d4a4ad-ce95-4334-d776-2332e3f72af4"
      },
      "source": [
        "# 3번째 항목을 값을 바꾸었다.\n",
        "c[2]=100\n",
        "c"
      ],
      "execution_count": null,
      "outputs": [
        {
          "output_type": "execute_result",
          "data": {
            "text/plain": [
              "[1, 2, 100, 5]"
            ]
          },
          "metadata": {
            "tags": []
          },
          "execution_count": 16
        }
      ]
    },
    {
      "cell_type": "code",
      "metadata": {
        "colab_type": "code",
        "id": "RpVxJuWFKao-",
        "colab": {
          "base_uri": "https://localhost:8080/",
          "height": 34
        },
        "outputId": "6e7b1bc6-cbb7-471f-a6c8-12a616c26b9e"
      },
      "source": [
        "d[2]=100\n",
        "d"
      ],
      "execution_count": null,
      "outputs": [
        {
          "output_type": "execute_result",
          "data": {
            "text/plain": [
              "array([  1,   2, 100,   5])"
            ]
          },
          "metadata": {
            "tags": []
          },
          "execution_count": 17
        }
      ]
    },
    {
      "cell_type": "code",
      "metadata": {
        "colab_type": "code",
        "id": "UsLmZSieKapA",
        "colab": {
          "base_uri": "https://localhost:8080/",
          "height": 34
        },
        "outputId": "13a071a3-8b7c-4ba9-ab65-6c08db620004"
      },
      "source": [
        "# 뒤에서부터 인덱싱할 때는 '-' 를 사용한다.\n",
        "c[-1]"
      ],
      "execution_count": null,
      "outputs": [
        {
          "output_type": "execute_result",
          "data": {
            "text/plain": [
              "5"
            ]
          },
          "metadata": {
            "tags": []
          },
          "execution_count": 18
        }
      ]
    },
    {
      "cell_type": "code",
      "metadata": {
        "colab_type": "code",
        "id": "iZZSoXlQKapD",
        "colab": {
          "base_uri": "https://localhost:8080/",
          "height": 34
        },
        "outputId": "a964a3e9-d32c-418b-f09a-589f8d708bd8"
      },
      "source": [
        "d[-2]"
      ],
      "execution_count": null,
      "outputs": [
        {
          "output_type": "execute_result",
          "data": {
            "text/plain": [
              "100"
            ]
          },
          "metadata": {
            "tags": []
          },
          "execution_count": 19
        }
      ]
    },
    {
      "cell_type": "code",
      "metadata": {
        "colab_type": "code",
        "id": "IJJPH8H6KapF",
        "colab": {
          "base_uri": "https://localhost:8080/",
          "height": 34
        },
        "outputId": "e6037baf-b584-42a2-fe7d-0f7ee8c572e0"
      },
      "source": [
        "# 리스트나 어레이의 일부 구간만 얻으려면 슬라이스(slice) ':'를 사용한다\n",
        "c[2:]"
      ],
      "execution_count": null,
      "outputs": [
        {
          "output_type": "execute_result",
          "data": {
            "text/plain": [
              "[100, 5]"
            ]
          },
          "metadata": {
            "tags": []
          },
          "execution_count": 20
        }
      ]
    },
    {
      "cell_type": "code",
      "metadata": {
        "colab_type": "code",
        "id": "-TJ8KMAfKapI",
        "colab": {
          "base_uri": "https://localhost:8080/",
          "height": 34
        },
        "outputId": "e4c649fa-8bed-4760-a450-2fc5ab26c950"
      },
      "source": [
        "d[1:3]"
      ],
      "execution_count": null,
      "outputs": [
        {
          "output_type": "execute_result",
          "data": {
            "text/plain": [
              "array([  2, 100])"
            ]
          },
          "metadata": {
            "tags": []
          },
          "execution_count": 21
        }
      ]
    },
    {
      "cell_type": "markdown",
      "metadata": {
        "colab_type": "text",
        "id": "-A-zoLdaoQ7P"
      },
      "source": [
        "### 어레이는 append가 안된다."
      ]
    },
    {
      "cell_type": "code",
      "metadata": {
        "colab_type": "code",
        "id": "INqugApaKapK",
        "colab": {
          "base_uri": "https://localhost:8080/",
          "height": 162
        },
        "outputId": "7a90b568-705d-4dbb-c61a-bb1418985bf7"
      },
      "source": [
        "d.append(1000)"
      ],
      "execution_count": null,
      "outputs": [
        {
          "output_type": "error",
          "ename": "AttributeError",
          "evalue": "'numpy.ndarray' object has no attribute 'append'",
          "traceback": [
            "\u001b[0;31m---------------------------------------------------------------------------\u001b[0m",
            "\u001b[0;31mAttributeError\u001b[0m                            Traceback (most recent call last)",
            "\u001b[0;32m<ipython-input-22-085096cd8588>\u001b[0m in \u001b[0;36m<module>\u001b[0;34m\u001b[0m\n\u001b[0;32m----> 1\u001b[0;31m \u001b[0md\u001b[0m\u001b[0;34m.\u001b[0m\u001b[0mappend\u001b[0m\u001b[0;34m(\u001b[0m\u001b[0;36m1000\u001b[0m\u001b[0;34m)\u001b[0m\u001b[0;34m\u001b[0m\u001b[0;34m\u001b[0m\u001b[0m\n\u001b[0m",
            "\u001b[0;31mAttributeError\u001b[0m: 'numpy.ndarray' object has no attribute 'append'"
          ]
        }
      ]
    },
    {
      "cell_type": "code",
      "metadata": {
        "colab_type": "code",
        "id": "IhMv7ru0oYxS",
        "colab": {
          "base_uri": "https://localhost:8080/",
          "height": 34
        },
        "outputId": "65a13739-d3d9-4733-d695-b96c939ed76f"
      },
      "source": [
        "c.append(1000)\n",
        "c"
      ],
      "execution_count": null,
      "outputs": [
        {
          "output_type": "execute_result",
          "data": {
            "text/plain": [
              "[1, 2, 100, 5, 1000]"
            ]
          },
          "metadata": {
            "tags": []
          },
          "execution_count": 23
        }
      ]
    },
    {
      "cell_type": "markdown",
      "metadata": {
        "colab_type": "text",
        "id": "HHg66D6BKapO"
      },
      "source": [
        "### 튜플 (tuple)\n",
        "- 튜플은 리스트처럼 여러 항목의 집합을 담을 수 있는데 리스트와 달리 튜플의 내용은 '상수'로 취급되어 값을 바꿀 수 없다\n",
        "- 튜플을 만들려면 소괄호( )를 사용하여 만들거나 , 로 구분하여 나열한다."
      ]
    },
    {
      "cell_type": "code",
      "metadata": {
        "colab_type": "code",
        "id": "4Jm2ZM6FKapP",
        "colab": {
          "base_uri": "https://localhost:8080/",
          "height": 34
        },
        "outputId": "42c26917-dc91-4e42-a1d3-56fe7d5d3b5f"
      },
      "source": [
        "e = (1, 2, 3)\n",
        "f = 4, 5,\"hello\"\n",
        "e + f"
      ],
      "execution_count": null,
      "outputs": [
        {
          "output_type": "execute_result",
          "data": {
            "text/plain": [
              "(1, 2, 3, 4, 5, 'hello')"
            ]
          },
          "metadata": {
            "tags": []
          },
          "execution_count": 24
        }
      ]
    },
    {
      "cell_type": "code",
      "metadata": {
        "colab_type": "code",
        "id": "iJvuLEt9KapT",
        "colab": {}
      },
      "source": [
        "g, h = 30, 40"
      ],
      "execution_count": null,
      "outputs": []
    },
    {
      "cell_type": "code",
      "metadata": {
        "colab_type": "code",
        "id": "AOYAQGcVKapZ",
        "colab": {
          "base_uri": "https://localhost:8080/",
          "height": 34
        },
        "outputId": "d87f2882-9265-443b-8ca1-baafef9627cc"
      },
      "source": [
        "g, h"
      ],
      "execution_count": null,
      "outputs": [
        {
          "output_type": "execute_result",
          "data": {
            "text/plain": [
              "(30, 40)"
            ]
          },
          "metadata": {
            "tags": []
          },
          "execution_count": 26
        }
      ]
    },
    {
      "cell_type": "markdown",
      "metadata": {
        "colab_type": "text",
        "id": "i5cNJh9DKapc"
      },
      "source": [
        "### 사전 (Dictionaries)\n",
        "- 사전은 \"간단한 데이터베이스\"이다\n",
        "- 키-값 조합 형태로 데이터베이스를 만들 수 있다\n",
        "- 딕셔너리에서는 항목을 찾을 때 키를 사용한다\n",
        "- 딕셔너너리에서 저장된 순서는 중요시하지 않는다.\n",
        "- 딕셔너리는 중괄호 {  } 로 만든다."
      ]
    },
    {
      "cell_type": "code",
      "metadata": {
        "colab_type": "code",
        "id": "x35TjG7nKapc",
        "colab": {
          "base_uri": "https://localhost:8080/",
          "height": 34
        },
        "outputId": "4ef70ca1-995d-4b0e-ac39-c7c6eb56b9a8"
      },
      "source": [
        "my_dict = {'grade': 3,'age': 21,'name': \"kim\"  }\n",
        "my_dict['name'] "
      ],
      "execution_count": null,
      "outputs": [
        {
          "output_type": "execute_result",
          "data": {
            "text/plain": [
              "'kim'"
            ]
          },
          "metadata": {
            "tags": []
          },
          "execution_count": 27
        }
      ]
    },
    {
      "cell_type": "code",
      "metadata": {
        "colab_type": "code",
        "id": "vlc_0xtjWcFo",
        "colab": {}
      },
      "source": [
        "# 항목 추가\n",
        "my_dict[\"addr\"] = \"Seoul\""
      ],
      "execution_count": null,
      "outputs": []
    },
    {
      "cell_type": "code",
      "metadata": {
        "colab_type": "code",
        "id": "pNy66e_NVnCn",
        "colab": {
          "base_uri": "https://localhost:8080/",
          "height": 34
        },
        "outputId": "6d038e37-cc14-4b7e-8f76-f467c8486a5f"
      },
      "source": [
        "my_dict"
      ],
      "execution_count": null,
      "outputs": [
        {
          "output_type": "execute_result",
          "data": {
            "text/plain": [
              "{'grade': 3, 'age': 21, 'name': 'kim', 'addr': 'Seoul'}"
            ]
          },
          "metadata": {
            "tags": []
          },
          "execution_count": 29
        }
      ]
    },
    {
      "cell_type": "code",
      "metadata": {
        "colab_type": "code",
        "id": "8NYDkVgoKapf",
        "scrolled": true,
        "colab": {
          "base_uri": "https://localhost:8080/",
          "height": 67
        },
        "outputId": "370ac6e6-668e-43dd-c428-0d086e4c276e"
      },
      "source": [
        "print(my_dict.keys())\n",
        "print(my_dict.values())\n",
        "print(my_dict.items()) "
      ],
      "execution_count": null,
      "outputs": [
        {
          "output_type": "stream",
          "text": [
            "dict_keys(['grade', 'age', 'name', 'addr'])\n",
            "dict_values([3, 21, 'kim', 'Seoul'])\n",
            "dict_items([('grade', 3), ('age', 21), ('name', 'kim'), ('addr', 'Seoul')])\n"
          ],
          "name": "stdout"
        }
      ]
    },
    {
      "cell_type": "code",
      "metadata": {
        "colab_type": "code",
        "id": "Iy1yDMwJKaph",
        "colab": {
          "base_uri": "https://localhost:8080/",
          "height": 179
        },
        "outputId": "038a9850-2c4d-483d-91b8-5ffd481dad1b"
      },
      "source": [
        "# 항목 변경\n",
        "my_dict['name'] = 'lee'\n",
        "my_dict['name']"
      ],
      "execution_count": null,
      "outputs": [
        {
          "output_type": "execute_result",
          "data": {
            "text/plain": [
              "'lee'"
            ]
          },
          "metadata": {
            "tags": []
          },
          "execution_count": 32
        }
      ]
    },
    {
      "cell_type": "markdown",
      "metadata": {
        "colab_type": "text",
        "id": "TEDLepl1paKq"
      },
      "source": [
        "## range, arange\n",
        "- range는 일정 범위의 수를 표현하는 특수 변수이다\n",
        "- arange는 일정 범위의 수를 배열(array)로 리턴한다"
      ]
    },
    {
      "cell_type": "code",
      "metadata": {
        "colab_type": "code",
        "id": "s6Egl83jKapj",
        "colab": {
          "base_uri": "https://localhost:8080/",
          "height": 101
        },
        "outputId": "45670516-a987-4cb1-af58-feef298c0b2d"
      },
      "source": [
        "x = range(1,6)\n",
        "for i in x:\n",
        "    print(i*10)"
      ],
      "execution_count": null,
      "outputs": [
        {
          "output_type": "stream",
          "text": [
            "10\n",
            "20\n",
            "30\n",
            "40\n",
            "50\n"
          ],
          "name": "stdout"
        }
      ]
    },
    {
      "cell_type": "code",
      "metadata": {
        "colab_type": "code",
        "id": "mC5kyUZNp7vR",
        "colab": {
          "base_uri": "https://localhost:8080/",
          "height": 101
        },
        "outputId": "7b738e4a-6dfb-4eb0-8009-1e1b143b384a"
      },
      "source": [
        "# 등간격 range\n",
        "x = range(1,11,2)\n",
        "for i in x:\n",
        "    print(i*10)"
      ],
      "execution_count": null,
      "outputs": [
        {
          "output_type": "stream",
          "text": [
            "10\n",
            "30\n",
            "50\n",
            "70\n",
            "90\n"
          ],
          "name": "stdout"
        }
      ]
    },
    {
      "cell_type": "code",
      "metadata": {
        "colab_type": "code",
        "id": "vFfw6AoDqNRX",
        "colab": {
          "base_uri": "https://localhost:8080/",
          "height": 34
        },
        "outputId": "b8814359-1f03-43c5-c59f-bfb49a7c259b"
      },
      "source": [
        "# range와 같은 값을 가지나 처음부터 배열(array)로 만드는 방법\n",
        "x = np.arange(12)\n",
        "x"
      ],
      "execution_count": null,
      "outputs": [
        {
          "output_type": "execute_result",
          "data": {
            "text/plain": [
              "array([ 0,  1,  2,  3,  4,  5,  6,  7,  8,  9, 10, 11])"
            ]
          },
          "metadata": {
            "tags": []
          },
          "execution_count": 37
        }
      ]
    },
    {
      "cell_type": "code",
      "metadata": {
        "colab_type": "code",
        "id": "Y-ih4wkPqc3x",
        "colab": {},
        "outputId": "e22bf8be-6063-4709-e96b-115ff159c9ab"
      },
      "source": [
        "x*10"
      ],
      "execution_count": null,
      "outputs": [
        {
          "output_type": "execute_result",
          "data": {
            "text/plain": [
              "array([  0,  10,  20,  30,  40,  50,  60,  70,  80,  90, 100, 110])"
            ]
          },
          "metadata": {
            "tags": []
          },
          "execution_count": 38
        }
      ]
    },
    {
      "cell_type": "markdown",
      "metadata": {
        "id": "1IkOfvzeZOaz",
        "colab_type": "text"
      },
      "source": [
        "# reshape\n",
        "- 어레이의 구조를 임의로 바꿀 수 있다\n",
        "- 아래는 1차원 어레이(벡터)를 2차원 어레이로 변경했다"
      ]
    },
    {
      "cell_type": "code",
      "metadata": {
        "id": "xPpsMS6HZOa0",
        "colab_type": "code",
        "colab": {},
        "outputId": "12df4e74-a703-40bd-ccd5-76f1741b342d"
      },
      "source": [
        "print(x)\n",
        "print(x.shape)\n",
        "x_new = x.reshape(3,4)\n",
        "print(x_new)\n",
        "print(x_new.shape)\n"
      ],
      "execution_count": null,
      "outputs": [
        {
          "output_type": "stream",
          "text": [
            "[ 0  1  2  3  4  5  6  7  8  9 10 11]\n",
            "(12,)\n",
            "[[ 0  1  2  3]\n",
            " [ 4  5  6  7]\n",
            " [ 8  9 10 11]]\n",
            "(3, 4)\n"
          ],
          "name": "stdout"
        }
      ]
    },
    {
      "cell_type": "code",
      "metadata": {
        "colab_type": "code",
        "id": "pLsw5TGd4EEz",
        "colab": {
          "base_uri": "https://localhost:8080/",
          "height": 50
        },
        "outputId": "5324ff1e-ad30-4010-c31a-304c4696a9a0"
      },
      "source": [
        "x = np.arange(24)\n",
        "x"
      ],
      "execution_count": null,
      "outputs": [
        {
          "output_type": "execute_result",
          "data": {
            "text/plain": [
              "array([ 0,  1,  2,  3,  4,  5,  6,  7,  8,  9, 10, 11, 12, 13, 14, 15, 16,\n",
              "       17, 18, 19, 20, 21, 22, 23])"
            ]
          },
          "metadata": {
            "tags": []
          },
          "execution_count": 3
        }
      ]
    },
    {
      "cell_type": "code",
      "metadata": {
        "colab_type": "code",
        "id": "9f2lly_j92qI",
        "colab": {
          "base_uri": "https://localhost:8080/",
          "height": 50
        },
        "outputId": "6933e4be-1cb7-4e4d-e512-d6681a826e3a"
      },
      "source": [
        "x.reshape(-1,12)"
      ],
      "execution_count": null,
      "outputs": [
        {
          "output_type": "execute_result",
          "data": {
            "text/plain": [
              "array([[ 0,  1,  2,  3,  4,  5,  6,  7,  8,  9, 10, 11],\n",
              "       [12, 13, 14, 15, 16, 17, 18, 19, 20, 21, 22, 23]])"
            ]
          },
          "metadata": {
            "tags": []
          },
          "execution_count": 64
        }
      ]
    },
    {
      "cell_type": "code",
      "metadata": {
        "colab_type": "code",
        "id": "OZZTdr7--Ar3",
        "colab": {
          "base_uri": "https://localhost:8080/",
          "height": 151
        },
        "outputId": "049a8d86-0d8f-44fe-b539-6f28c44419ba"
      },
      "source": [
        "x.reshape(3,2,4)"
      ],
      "execution_count": null,
      "outputs": [
        {
          "output_type": "execute_result",
          "data": {
            "text/plain": [
              "array([[[ 0,  1,  2,  3],\n",
              "        [ 4,  5,  6,  7]],\n",
              "\n",
              "       [[ 8,  9, 10, 11],\n",
              "        [12, 13, 14, 15]],\n",
              "\n",
              "       [[16, 17, 18, 19],\n",
              "        [20, 21, 22, 23]]])"
            ]
          },
          "metadata": {
            "tags": []
          },
          "execution_count": 65
        }
      ]
    },
    {
      "cell_type": "code",
      "metadata": {
        "colab_type": "code",
        "id": "ALs4au45-GFd",
        "colab": {
          "base_uri": "https://localhost:8080/",
          "height": 420
        },
        "outputId": "661c0332-96fe-49ea-e2b9-82dfa103e4ee"
      },
      "source": [
        "x.reshape(-1,1)"
      ],
      "execution_count": null,
      "outputs": [
        {
          "output_type": "execute_result",
          "data": {
            "text/plain": [
              "array([[ 0],\n",
              "       [ 1],\n",
              "       [ 2],\n",
              "       [ 3],\n",
              "       [ 4],\n",
              "       [ 5],\n",
              "       [ 6],\n",
              "       [ 7],\n",
              "       [ 8],\n",
              "       [ 9],\n",
              "       [10],\n",
              "       [11],\n",
              "       [12],\n",
              "       [13],\n",
              "       [14],\n",
              "       [15],\n",
              "       [16],\n",
              "       [17],\n",
              "       [18],\n",
              "       [19],\n",
              "       [20],\n",
              "       [21],\n",
              "       [22],\n",
              "       [23]])"
            ]
          },
          "metadata": {
            "tags": []
          },
          "execution_count": 66
        }
      ]
    },
    {
      "cell_type": "code",
      "metadata": {
        "colab_type": "code",
        "id": "Ci2I1vfQ-QU-",
        "scrolled": true,
        "colab": {
          "base_uri": "https://localhost:8080/",
          "height": 50
        },
        "outputId": "d4f3202b-9b30-4de0-db8d-95f718f57993"
      },
      "source": [
        "x.reshape(1,-1)"
      ],
      "execution_count": null,
      "outputs": [
        {
          "output_type": "execute_result",
          "data": {
            "text/plain": [
              "array([[ 0,  1,  2,  3,  4,  5,  6,  7,  8,  9, 10, 11, 12, 13, 14, 15,\n",
              "        16, 17, 18, 19, 20, 21, 22, 23]])"
            ]
          },
          "metadata": {
            "tags": []
          },
          "execution_count": 68
        }
      ]
    },
    {
      "cell_type": "markdown",
      "metadata": {
        "colab_type": "text",
        "id": "jDpy6go_le_6"
      },
      "source": [
        "# if 문\n",
        "- if 문장의 끝에는 ':'가 있어야 하며 if 문이 적용되는 블록(block)은 반드시 들여쓰기 (indentation)을 해야 한다. "
      ]
    },
    {
      "cell_type": "code",
      "metadata": {
        "colab_type": "code",
        "id": "TmhTtVhtKapn",
        "colab": {
          "base_uri": "https://localhost:8080/",
          "height": 50
        },
        "outputId": "0fb48543-2e3a-4df3-8079-57cc5bebe20c"
      },
      "source": [
        "x=5\n",
        "if x > 10:\n",
        "    print(\"x > 10\") \n",
        "    print('---------')\n",
        "elif x > 3:\n",
        "    print(\"x > 3\")\n",
        "    print('---------') \n",
        "else:\n",
        "    print(\" x <= 3\")\n",
        " "
      ],
      "execution_count": null,
      "outputs": [
        {
          "output_type": "stream",
          "text": [
            "x > 3\n",
            "---------\n"
          ],
          "name": "stdout"
        }
      ]
    },
    {
      "cell_type": "markdown",
      "metadata": {
        "colab_type": "text",
        "id": "ndc48egNKapp"
      },
      "source": [
        "## for\n",
        "- 동작을 반복할 때 for 루프를 사용한다\n",
        "- for 문장의 끝에는 ':'가 있어야 하며 for 문이 적용되는 블록(block)은 반드시 들여쓰기 (indentation)을 해야 한다. "
      ]
    },
    {
      "cell_type": "code",
      "metadata": {
        "colab_type": "code",
        "id": "H3H6BqOZKapq",
        "colab": {
          "base_uri": "https://localhost:8080/",
          "height": 67
        },
        "outputId": "4f7ec897-7cbf-4cfc-9cab-975ae15c97bf"
      },
      "source": [
        "items = [1, 5, 100]\n",
        "for x in items:\n",
        "    print(x**3)"
      ],
      "execution_count": null,
      "outputs": [
        {
          "output_type": "stream",
          "text": [
            "1\n",
            "125\n",
            "1000000\n"
          ],
          "name": "stdout"
        }
      ]
    },
    {
      "cell_type": "code",
      "metadata": {
        "colab_type": "code",
        "id": "81TKI-4vKapx",
        "colab": {
          "base_uri": "https://localhost:8080/",
          "height": 101
        },
        "outputId": "b2befa74-35df-4f2b-9015-61fe24d81f63"
      },
      "source": [
        "for i in range(5): \n",
        "    print (i*1000)"
      ],
      "execution_count": null,
      "outputs": [
        {
          "output_type": "stream",
          "text": [
            "0\n",
            "1000\n",
            "2000\n",
            "3000\n",
            "4000\n"
          ],
          "name": "stdout"
        }
      ]
    },
    {
      "cell_type": "markdown",
      "metadata": {
        "id": "Jv26UanEZObX",
        "colab_type": "text"
      },
      "source": [
        "# 그림 그리기 (시각화)\n",
        "- plot (점을 연결한다)\n",
        "- scatter (산포도를 그린다)\n",
        "- hist (히스토그램)"
      ]
    },
    {
      "cell_type": "code",
      "metadata": {
        "colab_type": "code",
        "id": "wbNVd0XzKaqD",
        "colab": {
          "base_uri": "https://localhost:8080/",
          "height": 296
        },
        "outputId": "ed0483ab-0ba1-4344-ec92-0e191eae4e6b"
      },
      "source": [
        "import matplotlib.pyplot as plt\n",
        "%matplotlib inline\n",
        "x = range(10) # 0~9 범위의 정수를 만든다\n",
        "y = np.random.randn(10) # 정규 분포를 갖는 랜덤 숫자 발생\n",
        "plt.scatter(x, y, c='r')\n",
        "plt.xlabel('x axis')\n",
        "plt.ylabel('y axis')"
      ],
      "execution_count": null,
      "outputs": [
        {
          "output_type": "execute_result",
          "data": {
            "text/plain": [
              "Text(0, 0.5, 'y axis')"
            ]
          },
          "metadata": {
            "tags": []
          },
          "execution_count": 48
        },
        {
          "output_type": "display_data",
          "data": {
            "image/png": "[encoded data removed]",
            "text/plain": [
              "<Figure size 432x288 with 1 Axes>"
            ]
          },
          "metadata": {
            "tags": [],
            "needs_background": "light"
          }
        }
      ]
    },
    {
      "cell_type": "code",
      "metadata": {
        "colab_type": "code",
        "id": "SMkxKZt8r6L6",
        "colab": {
          "base_uri": "https://localhost:8080/",
          "height": 282
        },
        "outputId": "65539863-0455-4478-97ed-64cdf800e7a1"
      },
      "source": [
        "plt.plot(x,y)"
      ],
      "execution_count": null,
      "outputs": [
        {
          "output_type": "execute_result",
          "data": {
            "text/plain": [
              "[<matplotlib.lines.Line2D at 0x11bb7bcd0>]"
            ]
          },
          "metadata": {
            "tags": []
          },
          "execution_count": 49
        },
        {
          "output_type": "display_data",
          "data": {
            "image/png": "[encoded data removed]",
            "text/plain": [
              "<Figure size 432x288 with 1 Axes>"
            ]
          },
          "metadata": {
            "tags": [],
            "needs_background": "light"
          }
        }
      ]
    },
    {
      "cell_type": "code",
      "metadata": {
        "colab_type": "code",
        "id": "WchKQEUvr_Cr",
        "colab": {
          "base_uri": "https://localhost:8080/",
          "height": 282
        },
        "outputId": "7249b425-25b1-4231-fc5f-87d0e0dd167b"
      },
      "source": [
        "plt.plot(x,y)\n",
        "plt.scatter(x, y, c='r')"
      ],
      "execution_count": null,
      "outputs": [
        {
          "output_type": "execute_result",
          "data": {
            "text/plain": [
              "<matplotlib.collections.PathCollection at 0x11be9e950>"
            ]
          },
          "metadata": {
            "tags": []
          },
          "execution_count": 50
        },
        {
          "output_type": "display_data",
          "data": {
            "image/png": "[encoded data removed]",
            "text/plain": [
              "<Figure size 432x288 with 1 Axes>"
            ]
          },
          "metadata": {
            "tags": [],
            "needs_background": "light"
          }
        }
      ]
    },
    {
      "cell_type": "code",
      "metadata": {
        "colab_type": "code",
        "id": "puhkbE_pYeVD",
        "colab": {
          "base_uri": "https://localhost:8080/",
          "height": 349
        },
        "outputId": "b159c1fa-069c-482b-dbda-b6dd8c79db8f"
      },
      "source": [
        "y = np.random.randn(1000)\n",
        "plt.hist(y, bins=30)\n",
        "plt.show()"
      ],
      "execution_count": null,
      "outputs": [
        {
          "output_type": "display_data",
          "data": {
            "image/png": "[encoded data removed]",
            "text/plain": [
              "<Figure size 432x288 with 1 Axes>"
            ]
          },
          "metadata": {
            "tags": [],
            "needs_background": "light"
          }
        }
      ]
    },
    {
      "cell_type": "markdown",
      "metadata": {
        "colab_type": "text",
        "id": "PWq_GNwEsO3W"
      },
      "source": [
        "## def (함수정의)\n",
        "- def 정의문은 : 로 끝나야 한다\n",
        "- 함수 인자를 정해줄 수 있다\n",
        "- 디폴트 값은 a=100 처럼 등호를 사용한다"
      ]
    },
    {
      "cell_type": "code",
      "metadata": {
        "colab_type": "code",
        "id": "gaNh-vF2KaqI",
        "colab": {}
      },
      "source": [
        "def my_func(a, b, c): \n",
        "    return a*100 + b*10 + c"
      ],
      "execution_count": null,
      "outputs": []
    },
    {
      "cell_type": "code",
      "metadata": {
        "colab_type": "code",
        "id": "WqtxwVB1shO3",
        "colab": {
          "base_uri": "https://localhost:8080/",
          "height": 34
        },
        "outputId": "1df5ca58-85de-4b68-800d-d4f7923d4f05"
      },
      "source": [
        "print(my_func(1,2,3))"
      ],
      "execution_count": null,
      "outputs": [
        {
          "output_type": "stream",
          "text": [
            "123\n"
          ],
          "name": "stdout"
        }
      ]
    },
    {
      "cell_type": "code",
      "metadata": {
        "colab_type": "code",
        "id": "LDBAzDllsnQ5",
        "colab": {}
      },
      "source": [
        "def my_func(a=5, b=5, c=5): \n",
        "    return a*100 + b*10 + c"
      ],
      "execution_count": null,
      "outputs": []
    },
    {
      "cell_type": "code",
      "metadata": {
        "colab_type": "code",
        "id": "Ysb8wV3bss2Y",
        "colab": {
          "base_uri": "https://localhost:8080/",
          "height": 84
        },
        "outputId": "baf34486-0d16-48f5-c47c-5a21ffa5d4f6"
      },
      "source": [
        "print(my_func(1,2,3))\n",
        "print(my_func(1,2))\n",
        "print(my_func(1))\n",
        "print(my_func())"
      ],
      "execution_count": null,
      "outputs": [
        {
          "output_type": "stream",
          "text": [
            "123\n",
            "125\n",
            "155\n",
            "555\n"
          ],
          "name": "stdout"
        }
      ]
    },
    {
      "cell_type": "markdown",
      "metadata": {
        "colab_type": "text",
        "id": "8T5jYM9QBKcq"
      },
      "source": [
        "# 몬테카를로 시뮬레이션"
      ]
    },
    {
      "cell_type": "markdown",
      "metadata": {
        "colab_type": "text",
        "id": "OG1R5huhuKLw"
      },
      "source": [
        "## 로직 연산\n",
        "- 불리언 변수를 연산에 사용하면 True를 1로, False를 0으로 처리한다"
      ]
    },
    {
      "cell_type": "code",
      "metadata": {
        "colab_type": "code",
        "id": "xpHvGofzZ-0B",
        "colab": {
          "base_uri": "https://localhost:8080/",
          "height": 50
        },
        "outputId": "b9ab00a4-c9fd-491e-c073-f4a4f316a9fb"
      },
      "source": [
        "x = np.random.rand(10)\n",
        "x"
      ],
      "execution_count": null,
      "outputs": [
        {
          "output_type": "execute_result",
          "data": {
            "text/plain": [
              "array([0.25092901, 0.21121466, 0.80490339, 0.38954166, 0.55733442,\n",
              "       0.44825285, 0.00144344, 0.122419  , 0.19687156, 0.49072065])"
            ]
          },
          "metadata": {
            "tags": []
          },
          "execution_count": 67
        }
      ]
    },
    {
      "cell_type": "code",
      "metadata": {
        "colab_type": "code",
        "id": "Te8gDPzuaU9d",
        "colab": {
          "base_uri": "https://localhost:8080/",
          "height": 50
        },
        "outputId": "cd57059e-02ec-491f-b10f-a5a80891cf75"
      },
      "source": [
        "(x < 0.5)"
      ],
      "execution_count": null,
      "outputs": [
        {
          "output_type": "execute_result",
          "data": {
            "text/plain": [
              "array([ True,  True, False,  True, False,  True,  True,  True,  True,\n",
              "        True])"
            ]
          },
          "metadata": {
            "tags": []
          },
          "execution_count": 69
        }
      ]
    },
    {
      "cell_type": "code",
      "metadata": {
        "colab_type": "code",
        "id": "zaUQcLbWth7X",
        "colab": {
          "base_uri": "https://localhost:8080/",
          "height": 34
        },
        "outputId": "c62c6842-db8d-4851-a059-0eeeac2ae6ea"
      },
      "source": [
        "(x < 0.5).mean()\n"
      ],
      "execution_count": null,
      "outputs": [
        {
          "output_type": "execute_result",
          "data": {
            "text/plain": [
              "0.8"
            ]
          },
          "metadata": {
            "tags": []
          },
          "execution_count": 70
        }
      ]
    },
    {
      "cell_type": "markdown",
      "metadata": {
        "id": "pawD24uwZOb-",
        "colab_type": "text"
      },
      "source": [
        "## 임의의 함수 그래프로 그리기\n"
      ]
    },
    {
      "cell_type": "code",
      "metadata": {
        "colab_type": "code",
        "id": "wE_2aRbQtm0j",
        "colab": {
          "base_uri": "https://localhost:8080/",
          "height": 335
        },
        "outputId": "2ac6a6f1-40d1-4291-c02d-ba6d015946cf"
      },
      "source": [
        "xs=np.linspace(0,2,21) # 등간격으로 나눈 값을 얻는다\n",
        "print(xs)\n",
        "plt.plot(xs, xs**2, c='r') # y = x**2\n",
        "plt.plot(xs, 1.5*xs, c='k') # y = 1.5 * x"
      ],
      "execution_count": null,
      "outputs": [
        {
          "output_type": "stream",
          "text": [
            "[0.  0.1 0.2 0.3 0.4 0.5 0.6 0.7 0.8 0.9 1.  1.1 1.2 1.3 1.4 1.5 1.6 1.7\n",
            " 1.8 1.9 2. ]\n"
          ],
          "name": "stdout"
        },
        {
          "output_type": "execute_result",
          "data": {
            "text/plain": [
              "[<matplotlib.lines.Line2D at 0x11c4ec110>]"
            ]
          },
          "metadata": {
            "tags": []
          },
          "execution_count": 77
        },
        {
          "output_type": "display_data",
          "data": {
            "image/png": "[encoded data removed]",
            "text/plain": [
              "<Figure size 432x288 with 1 Axes>"
            ]
          },
          "metadata": {
            "tags": [],
            "needs_background": "light"
          }
        }
      ]
    },
    {
      "cell_type": "markdown",
      "metadata": {
        "id": "b5LpxqDEZOcB",
        "colab_type": "text"
      },
      "source": [
        "## 파이 값 구하기"
      ]
    },
    {
      "cell_type": "code",
      "metadata": {
        "colab_type": "code",
        "id": "4wcqPV_UKaqK",
        "colab": {},
        "outputId": "0dc453ba-e7ae-442a-bb13-856b632f147f"
      },
      "source": [
        "n = 10000\n",
        "x = np.random.rand(n)\n",
        "y = np.random.rand(n) \n",
        "plt.figure(figsize=(4,4)) \n",
        "plt.scatter(x,y, s=1) \n",
        "xs=np.linspace(0,1,100) \n",
        "plt.plot(xs, (1-xs**2)**0.5, c='r') # 원 그리기\n",
        "pi = ((x**2 + y**2) < 1).mean()*4 # 원 내부에 들어간 샘플 수 세기\n",
        "pi"
      ],
      "execution_count": null,
      "outputs": [
        {
          "output_type": "execute_result",
          "data": {
            "text/plain": [
              "3.1456"
            ]
          },
          "metadata": {
            "tags": []
          },
          "execution_count": 85
        },
        {
          "output_type": "display_data",
          "data": {
            "image/png": "[encoded data removed]",
            "text/plain": [
              "<Figure size 288x288 with 1 Axes>"
            ]
          },
          "metadata": {
            "tags": [],
            "needs_background": "light"
          }
        }
      ]
    },
    {
      "cell_type": "markdown",
      "metadata": {
        "colab_type": "text",
        "id": "ZH7ZX31buZwK"
      },
      "source": [
        "## 정규 분포"
      ]
    },
    {
      "cell_type": "code",
      "metadata": {
        "colab_type": "code",
        "id": "q8OGJ9zUKaqb",
        "colab": {},
        "outputId": "1f60b0ed-3315-42c6-bad0-065ca8b7e2bc"
      },
      "source": [
        "n_samples = 10\n",
        "x = np.random.randint(1,7,n_samples) # 1~6사이의 정수를 랜덤하게 발생 \n",
        "x"
      ],
      "execution_count": null,
      "outputs": [
        {
          "output_type": "execute_result",
          "data": {
            "text/plain": [
              "array([3, 5, 5, 2, 4, 6, 5, 1, 3, 3])"
            ]
          },
          "metadata": {
            "tags": []
          },
          "execution_count": 90
        }
      ]
    },
    {
      "cell_type": "code",
      "metadata": {
        "colab_type": "code",
        "id": "LBJnYhD8Kaqf",
        "colab": {},
        "outputId": "52dcf882-f7d2-4076-895c-3e0abb67e3f9"
      },
      "source": [
        "x = np.random.randint(1,7,100000) \n",
        "plt.hist(x, bins = 6, width=0.6) \n",
        "plt.show()"
      ],
      "execution_count": null,
      "outputs": [
        {
          "output_type": "display_data",
          "data": {
            "image/png": "[encoded data removed]",
            "text/plain": [
              "<Figure size 432x288 with 1 Axes>"
            ]
          },
          "metadata": {
            "tags": [],
            "needs_background": "light"
          }
        }
      ]
    },
    {
      "cell_type": "code",
      "metadata": {
        "colab_type": "code",
        "id": "qFtW_bxwKaqj",
        "colab": {},
        "outputId": "039944ce-5226-4b0e-de40-3b3d775a3758"
      },
      "source": [
        "n = 32 # 주사위를 동시에 던지는 횟수\n",
        "sum = 0\n",
        "n_samples = 10000\n",
        "for i in range(n):\n",
        "    x = np.random.randint(1,7,n_samples) \n",
        "    sum = sum + x\n",
        "plt.hist(sum, bins = n*5+1, width=0.6) # bin의 수는 6, 11, 16, 21, ...\n",
        "plt.show()"
      ],
      "execution_count": null,
      "outputs": [
        {
          "output_type": "display_data",
          "data": {
            "image/png": "[encoded data removed]",
            "text/plain": [
              "<Figure size 432x288 with 1 Axes>"
            ]
          },
          "metadata": {
            "tags": [],
            "needs_background": "light"
          }
        }
      ]
    },
    {
      "cell_type": "markdown",
      "metadata": {
        "colab_type": "text",
        "id": "gbad5RZqvTOs"
      },
      "source": [
        "# 로그"
      ]
    },
    {
      "cell_type": "code",
      "metadata": {
        "colab_type": "code",
        "id": "u8j9E-Q5vVek",
        "colab": {
          "base_uri": "https://localhost:8080/",
          "height": 282
        },
        "outputId": "90d36281-b140-4633-8b17-2d404a399ef0"
      },
      "source": [
        "x = np.linspace(1,1000)\n",
        "y = np.log10(x) # 베이스 10\n",
        "plt.plot(x,y)"
      ],
      "execution_count": null,
      "outputs": [
        {
          "output_type": "execute_result",
          "data": {
            "text/plain": [
              "[<matplotlib.lines.Line2D at 0x11c452e90>]"
            ]
          },
          "metadata": {
            "tags": []
          },
          "execution_count": 100
        },
        {
          "output_type": "display_data",
          "data": {
            "image/png": "[encoded data removed]",
            "text/plain": [
              "<Figure size 432x288 with 1 Axes>"
            ]
          },
          "metadata": {
            "tags": [],
            "needs_background": "light"
          }
        }
      ]
    },
    {
      "cell_type": "markdown",
      "metadata": {
        "colab_type": "text",
        "id": "apuFbQE5xixe"
      },
      "source": [
        "## 로그 베이스 e"
      ]
    },
    {
      "cell_type": "code",
      "metadata": {
        "colab_type": "code",
        "id": "QhaPwjrpvgv0",
        "colab": {
          "base_uri": "https://localhost:8080/",
          "height": 34
        },
        "outputId": "26e55199-db61-4a5d-c71f-11b9183230bf"
      },
      "source": [
        "r = 1.0 # 연리 100%\n",
        "n = 12*365\n",
        "print(1+r) # 단리\n",
        "print((1+ r/n)**n) # 일일 복리"
      ],
      "execution_count": null,
      "outputs": [
        {
          "output_type": "stream",
          "text": [
            "2.0\n",
            "2.717971587242499\n"
          ],
          "name": "stdout"
        }
      ]
    },
    {
      "cell_type": "code",
      "metadata": {
        "colab_type": "code",
        "id": "zjEKVS0Iwzbp",
        "colab": {
          "base_uri": "https://localhost:8080/",
          "height": 34
        },
        "outputId": "38587401-dff5-48ce-ecce-d6519b360038"
      },
      "source": [
        "np.e"
      ],
      "execution_count": null,
      "outputs": [
        {
          "output_type": "execute_result",
          "data": {
            "text/plain": [
              "2.718281828459045"
            ]
          },
          "metadata": {
            "tags": []
          },
          "execution_count": 102
        }
      ]
    },
    {
      "cell_type": "code",
      "metadata": {
        "colab_type": "code",
        "id": "624Y8XmewdSJ",
        "colab": {
          "base_uri": "https://localhost:8080/",
          "height": 34
        },
        "outputId": "6105eb7b-1ab4-4bd5-b831-feaffb254ad4"
      },
      "source": [
        "r = 0.1  # 연리 10%\n",
        "n = 12*365\n",
        "(1+ r/n)**n"
      ],
      "execution_count": null,
      "outputs": [
        {
          "output_type": "execute_result",
          "data": {
            "text/plain": [
              "1.1051696564852593"
            ]
          },
          "metadata": {
            "tags": []
          },
          "execution_count": 113
        }
      ]
    },
    {
      "cell_type": "code",
      "metadata": {
        "colab_type": "code",
        "id": "CYp-gE7_w1sA",
        "colab": {
          "base_uri": "https://localhost:8080/",
          "height": 34
        },
        "outputId": "d448e603-646b-472c-8eb0-813170918879"
      },
      "source": [
        "(np.e)**r"
      ],
      "execution_count": null,
      "outputs": [
        {
          "output_type": "execute_result",
          "data": {
            "text/plain": [
              "1.1051709180756477"
            ]
          },
          "metadata": {
            "tags": []
          },
          "execution_count": 114
        }
      ]
    },
    {
      "cell_type": "markdown",
      "metadata": {
        "id": "0Nd1IlTsZOcV",
        "colab_type": "text"
      },
      "source": [
        "# t 검증\n",
        "- pvalue 가 0.05 이하이면 우연히 발생했다고 보기 어렵다는 뜻\n",
        "- 주사위 눈금이 1~5만 나타나는 경우의 검증 예"
      ]
    },
    {
      "cell_type": "code",
      "metadata": {
        "colab_type": "code",
        "id": "u4vswlV5wuMk",
        "colab": {},
        "outputId": "a96d8d3f-ab76-4397-887a-cc0d17d3c5af"
      },
      "source": [
        "from scipy import stats\n",
        "import numpy as np\n",
        "stats.ttest_ind(np.random.randint(1,7,200), \n",
        "                np.random.randint(1,7,200))"
      ],
      "execution_count": null,
      "outputs": [
        {
          "output_type": "execute_result",
          "data": {
            "text/plain": [
              "Ttest_indResult(statistic=1.3052849118564513, pvalue=0.1925499291972374)"
            ]
          },
          "metadata": {
            "tags": []
          },
          "execution_count": 160
        }
      ]
    },
    {
      "cell_type": "code",
      "metadata": {
        "id": "4h9WIFtvZOcZ",
        "colab_type": "code",
        "colab": {},
        "outputId": "8bb6e706-e849-4476-a79c-32d477e4c7ec"
      },
      "source": [
        "stats.ttest_ind(np.random.randint(1,7,200), \n",
        "                np.random.randint(1,6,200))"
      ],
      "execution_count": null,
      "outputs": [
        {
          "output_type": "execute_result",
          "data": {
            "text/plain": [
              "Ttest_indResult(statistic=2.7439069578581896, pvalue=0.0063459453392150636)"
            ]
          },
          "metadata": {
            "tags": []
          },
          "execution_count": 161
        }
      ]
    },
    {
      "cell_type": "code",
      "metadata": {
        "id": "AeSjB8JAZOcb",
        "colab_type": "code",
        "colab": {}
      },
      "source": [
        ""
      ],
      "execution_count": null,
      "outputs": []
    }
  ]
}